{
 "cells": [
  {
   "cell_type": "code",
   "execution_count": 1,
   "metadata": {},
   "outputs": [
    {
     "name": "stdout",
     "output_type": "stream",
     "text": [
      "made and attempting to connect <paho.mqtt.client.Client object at 0x7f1130927828>\n",
      "on_publish <paho.mqtt.client.Client object at 0x7f1130927828> None 2\n"
     ]
    },
    {
     "data": {
      "text/plain": [
       "<paho.mqtt.client.MQTTMessageInfo at 0x7f1137c79a48>"
      ]
     },
     "execution_count": 1,
     "metadata": {},
     "output_type": "execute_result"
    }
   ],
   "source": [
    "import paho.mqtt.client\n",
    "mqttbroker = \"mqtt.local\"   # set to None to disable\n",
    "mqttspoken = \"vocopi/spoken\"\n",
    "mqtttohear = \"vocopi/tohear\"\n",
    "mqttclient = None\n",
    "history = [ ]\n",
    "\n",
    "def process(transcript):\n",
    "    print(\"not overloaded yet\")\n",
    "\n",
    "mqttclient = paho.mqtt.client.Client(client_id=\"jcomputer\")   # global object\n",
    "def on_connect(client, userdata, flags, rc):\n",
    "    print(\"on_connect\", client, userdata, flags, rc)\n",
    "def on_disconnect(client, userdata, rc):\n",
    "    print(\"on_disconnect\", client, userdata, rc)\n",
    "def on_publish(client, userdata, mid):\n",
    "    print(\"on_publish\", client, userdata, mid)\n",
    "def on_message(client, userdata, message):\n",
    "    print(\"on_message\", client, message, message.topic, message.payload)\n",
    "    history.append((\"received\", message.payload.decode()))\n",
    "    process(message.payload.decode())\n",
    "\n",
    "mqttclient.on_connect = on_connect\n",
    "mqttclient.on_publish = on_publish\n",
    "mqttclient.on_disconnect = on_disconnect\n",
    "mqttclient.on_message = on_message\n",
    "print(\"made and attempting to connect\", mqttclient)\n",
    "mqttclient.connect(mqttbroker)\n",
    "mqttclient.subscribe(mqttspoken)\n",
    "\n",
    "mqttclient.publish(mqtttohear, \"12,20 the computer is ready\")"
   ]
  },
  {
   "cell_type": "code",
   "execution_count": 2,
   "metadata": {},
   "outputs": [
    {
     "name": "stdout",
     "output_type": "stream",
     "text": [
      "made and attempting to connect <paho.mqtt.client.Client object at 0x7f1130379780>\n"
     ]
    },
    {
     "data": {
      "text/plain": [
       "0"
      ]
     },
     "execution_count": 2,
     "metadata": {},
     "output_type": "execute_result"
    }
   ],
   "source": [
    "# eliza client (set to None if disabled)\n",
    "elizabroker = \"nodered.dynamicdevices.co.uk\"\n",
    "elizain = \"eliza/jcomputer/in\"\n",
    "elizaout = \"eliza/jcomputer/out\"\n",
    "\n",
    "elizaclient = paho.mqtt.client.Client(client_id=\"jj\")\n",
    "def on_ezmessage(client, userdata, message):\n",
    "    print(\"on_message\", client, message, message.topic, message.payload)\n",
    "    say(\"40,50\"+message.payload.decode())\n",
    "\n",
    "elizaclient.on_connect = on_connect\n",
    "elizaclient.on_publish = on_publish\n",
    "elizaclient.on_disconnect = on_disconnect\n",
    "elizaclient.on_message = on_ezmessage\n",
    "print(\"made and attempting to connect\", elizaclient)\n",
    "elizaclient.connect(elizabroker)\n",
    "elizaclient.subscribe(elizaout)\n",
    "elizaclient.loop()\n"
   ]
  },
  {
   "cell_type": "code",
   "execution_count": 3,
   "metadata": {},
   "outputs": [
    {
     "name": "stdout",
     "output_type": "stream",
     "text": [
      "on_connect <paho.mqtt.client.Client object at 0x7f1130379780> None {'session present': 0} 0\n"
     ]
    },
    {
     "data": {
      "text/plain": [
       "0"
      ]
     },
     "execution_count": 3,
     "metadata": {},
     "output_type": "execute_result"
    }
   ],
   "source": [
    "elizaclient.loop()\n"
   ]
  },
  {
   "cell_type": "code",
   "execution_count": 4,
   "metadata": {
    "collapsed": true
   },
   "outputs": [],
   "source": [
    "#elizaclient = None\n",
    "# mosquitto_sub -h mqtt.local -v -t vocopi/spoken"
   ]
  },
  {
   "cell_type": "code",
   "execution_count": 5,
   "metadata": {},
   "outputs": [
    {
     "name": "stdout",
     "output_type": "stream",
     "text": [
      "on_publish <paho.mqtt.client.Client object at 0x7f1130927828> None 3\n"
     ]
    },
    {
     "data": {
      "text/plain": [
       "<paho.mqtt.client.MQTTMessageInfo at 0x7f1137c79318>"
      ]
     },
     "execution_count": 5,
     "metadata": {},
     "output_type": "execute_result"
    }
   ],
   "source": [
    "mqttclient.publish(mqtttohear, \"40,50,hi there\")"
   ]
  },
  {
   "cell_type": "code",
   "execution_count": 6,
   "metadata": {},
   "outputs": [
    {
     "name": "stdout",
     "output_type": "stream",
     "text": [
      "on_connect <paho.mqtt.client.Client object at 0x7f1130927828> None {'session present': 0} 0\n"
     ]
    },
    {
     "data": {
      "text/plain": [
       "0"
      ]
     },
     "execution_count": 6,
     "metadata": {},
     "output_type": "execute_result"
    }
   ],
   "source": [
    "mqttclient.loop()\n"
   ]
  },
  {
   "cell_type": "code",
   "execution_count": null,
   "metadata": {
    "collapsed": true
   },
   "outputs": [],
   "source": []
  },
  {
   "cell_type": "code",
   "execution_count": null,
   "metadata": {
    "collapsed": true
   },
   "outputs": [],
   "source": []
  },
  {
   "cell_type": "code",
   "execution_count": 7,
   "metadata": {
    "collapsed": true
   },
   "outputs": [],
   "source": [
    "import re\n",
    "def say(t):\n",
    "    if not re.match(\"\\d\", t):\n",
    "        t = \"40,90 \"+t\n",
    "    mqttclient.publish(mqtttohear, t)\n",
    "    \n",
    "import time, datetime\n",
    "\n",
    "tprevaction = 0\n",
    "makestate = \"\"\n",
    "\n",
    "\n",
    "coffeereport = [ \"Coffee making report for \"+datetime.datetime.now().isoformat(), \"\" ]\n",
    "\n",
    "coffeesteps = [ \"\", \"put the old filter into the compost\", \n",
    "                \"find a new coffee filter\", \n",
    "                \"add one measure of coffee to the filter\", \n",
    "                \"replace the filter funnel into machine\", \n",
    " #             \"fill the jug with cold water\", \"pour water into the machine\", \"place jug on the hotplate\", \"turn on the machine\", \n",
    "              \"you are now done, wait for your coffee while I print the report\" ]\n",
    "\n",
    "def coffeemakingchecklist(words, say):\n",
    "    global tprevaction, makestate\n",
    "    print(\"cmc\", words, makestate)\n",
    "    if makestate == \"commenced\":\n",
    "        say(\"Commencing the coffee making checklist.  Say check if done, or comment to add notes\")\n",
    "        makestate = 0\n",
    "        words = [\"check\", \"\", \"\", \"\"]\n",
    "        \n",
    "    if words[0] == \"repeat\" or words[1] == \"repeat\":\n",
    "        say(\"repeating item %d\" % makestate)\n",
    "        say(coffeesteps[makestate])\n",
    "        return True\n",
    "        \n",
    "    if words[0] == \"check\":\n",
    "        if makestate != 0:\n",
    "            coffeereport.append(\"   \"+datetime.datetime.now().isoformat()+\"  check\")\n",
    "        makestate += 1\n",
    "        say(coffeesteps[makestate])\n",
    "        if makestate == len(coffeesteps) - 1:\n",
    "            makestate = \"\"\n",
    "            open(\"coffeereport.txt\", \"w\").write(\"\\n\".join(coffeereport))\n",
    "            return True\n",
    "        coffeereport.append(\"\")\n",
    "        coffeereport.append(coffeesteps[makestate])\n",
    "        return True\n",
    "        \n",
    "    if words[0] in [\"close\", \"end\", \"stop\"] and words[1] == \"checklist\":\n",
    "        say(\"coffee making checklist aborted\")\n",
    "        makestate = \"\"\n",
    "        return True\n",
    "        \n",
    "    if words[0] and type(makestate) == int:\n",
    "        coffeereport.append(\"   \"+datetime.datetime.now().isoformat()+\" \"+\" \".join(words[:]))\n",
    "        say(\"your comment on item %d has been noted\" % makestate)\n",
    "        return True\n",
    "                \n",
    "        \n",
    "    say(\"You said \"+\" \".join(words)+\" while making coffee\")\n",
    "    return True\n",
    "    \n",
    "\n",
    "elizaworking = False\n",
    "\n",
    "def process(transcript):\n",
    "    global tprevaction, makestate, elizaworking\n",
    "    \n",
    "    words = transcript.split()\n",
    "    wc = len(words)\n",
    "    tnow = time.time()\n",
    "    dtime = tnow - tprevaction\n",
    "    while len(words)<10:\n",
    "        words.append(\"\")\n",
    "    print(words)\n",
    "        \n",
    "    if words[0].lower() == \"eliza\":\n",
    "        if words[1] in [\"stop\", \"end\", \"off\"]:\n",
    "            if elizaworking:\n",
    "                elizaworking = False\n",
    "                say(\"Eliza is gone\")\n",
    "            else:\n",
    "                say(\"Eliza is not here\")\n",
    "        elif words[1] in [\"start\", \"begin\", \"on\"]:\n",
    "            if elizaworking:\n",
    "                say(\"Eliza is already here\")\n",
    "            elif elizaclient:\n",
    "                elizaworking = True\n",
    "                say(\"Eliza has arrived\")\n",
    "            else:\n",
    "                say(\"Eliza cannot come\")\n",
    "        return True\n",
    "    if elizaworking:\n",
    "        elizaclient.publish(elizain, \" \".join(words))\n",
    "        return True\n",
    "        \n",
    "    if makestate:\n",
    "        if makestate == \"readytocommence\":\n",
    "            if dtime < 10 and words[0] == \"coffee\" and words[1] == \"make\":\n",
    "                makestate = \"commenced\"\n",
    "            else:\n",
    "                makestate = \"\"\n",
    "        coffeemakingchecklist(words, say)\n",
    "        return True\n",
    "        \n",
    "    if words[0] == \"coffee\":\n",
    "        if words[0] == \"\":\n",
    "            say(\"say: coffee commands to get the command list\")\n",
    "            return True\n",
    "        if words[1] == \"commands\":\n",
    "            say(\"Available commands are: quantity, age, temperature, make\")\n",
    "            return True\n",
    "        if words[1] == \"quantity\":\n",
    "            say(\"There is half a pot left\")\n",
    "            return True\n",
    "        if words[1] == \"age\":\n",
    "            say(\"The coffee is 6 hours old\")\n",
    "            return True\n",
    "        if words[1] == \"temperature\":\n",
    "            say(\"The coffee is 36 degrees\")\n",
    "            return True\n",
    "        if words[1] == \"make\":\n",
    "            tprevaction = tnow\n",
    "            if words[2] == \"checklist\":\n",
    "                makestate = \"commenced\"\n",
    "                coffeemakingchecklist(words, say)\n",
    "                return True\n",
    "            say(\"Say coffee make again to commence the coffee making checklist\")\n",
    "            makestate = \"readytocommence\"\n",
    "            return True\n",
    "                \n",
    "            \n",
    "    if wc == 1:\n",
    "        say(\"one word\")\n",
    "    elif wc == 2:\n",
    "        say(\"two words\")\n",
    "    elif wc == 3:\n",
    "        say(\"three words\")\n",
    "    elif wc == 3:\n",
    "        say(\"four words\")\n",
    "    return False\n"
   ]
  },
  {
   "cell_type": "code",
   "execution_count": 8,
   "metadata": {},
   "outputs": [
    {
     "name": "stdout",
     "output_type": "stream",
     "text": [
      "['coffee', 'commands', '', '', '', '', '', '', '', '']\n",
      "on_publish <paho.mqtt.client.Client object at 0x7f1130927828> None 4\n"
     ]
    },
    {
     "data": {
      "text/plain": [
       "True"
      ]
     },
     "execution_count": 8,
     "metadata": {},
     "output_type": "execute_result"
    }
   ],
   "source": [
    "process(\"coffee commands\")\n"
   ]
  },
  {
   "cell_type": "code",
   "execution_count": 9,
   "metadata": {},
   "outputs": [
    {
     "data": {
      "text/plain": [
       "0"
      ]
     },
     "execution_count": 9,
     "metadata": {},
     "output_type": "execute_result"
    }
   ],
   "source": [
    "mqttclient.loop(0.2)"
   ]
  },
  {
   "cell_type": "code",
   "execution_count": null,
   "metadata": {},
   "outputs": [
    {
     "name": "stdout",
     "output_type": "stream",
     "text": [
      "on_message <paho.mqtt.client.Client object at 0x7f1130927828> <paho.mqtt.client.MQTTMessage object at 0x7f113036d198> vocopi/spoken b'the computer is ready said that'\n",
      "['the', 'computer', 'is', 'ready', 'said', 'that', '', '', '', '']\n",
      "on_message <paho.mqtt.client.Client object at 0x7f1130927828> <paho.mqtt.client.MQTTMessage object at 0x7f113036d198> vocopi/spoken b'hi'\n",
      "['hi', '', '', '', '', '', '', '', '', '']\n",
      "on_publish <paho.mqtt.client.Client object at 0x7f1130927828> None 5\n",
      "on_message <paho.mqtt.client.Client object at 0x7f1130927828> <paho.mqtt.client.MQTTMessage object at 0x7f113036d0b8> vocopi/spoken b'and then it gets into recording'\n",
      "['and', 'then', 'it', 'gets', 'into', 'recording', '', '', '', '']\n",
      "on_message <paho.mqtt.client.Client object at 0x7f1130927828> <paho.mqtt.client.MQTTMessage object at 0x7f113036d0b8> vocopi/spoken b'okay'\n",
      "['okay', '', '', '', '', '', '', '', '', '']\n",
      "on_publish <paho.mqtt.client.Client object at 0x7f1130927828> None 6\n",
      "on_message <paho.mqtt.client.Client object at 0x7f1130927828> <paho.mqtt.client.MQTTMessage object at 0x7f113036d0b8> vocopi/spoken b'coffee 20'\n",
      "['coffee', '20', '', '', '', '', '', '', '', '']\n",
      "on_publish <paho.mqtt.client.Client object at 0x7f1130927828> None 7\n",
      "on_message <paho.mqtt.client.Client object at 0x7f1130927828> <paho.mqtt.client.MQTTMessage object at 0x7f113036d0b8> vocopi/spoken b'coffee quantity'\n",
      "['coffee', 'quantity', '', '', '', '', '', '', '', '']\n",
      "on_publish <paho.mqtt.client.Client object at 0x7f1130927828> None 8\n",
      "on_message <paho.mqtt.client.Client object at 0x7f1130927828> <paho.mqtt.client.MQTTMessage object at 0x7f113036d198> vocopi/spoken b'Elijah'\n",
      "['Elijah', '', '', '', '', '', '', '', '', '']\n",
      "on_publish <paho.mqtt.client.Client object at 0x7f1130927828> None 9\n",
      "on_message <paho.mqtt.client.Client object at 0x7f1130927828> <paho.mqtt.client.MQTTMessage object at 0x7f113036d198> vocopi/spoken b'Elijah on'\n",
      "['Elijah', 'on', '', '', '', '', '', '', '', '']\n",
      "on_publish <paho.mqtt.client.Client object at 0x7f1130927828> None 10\n",
      "on_message <paho.mqtt.client.Client object at 0x7f1130927828> <paho.mqtt.client.MQTTMessage object at 0x7f113036d198> vocopi/spoken b'Elijah on'\n",
      "['Elijah', 'on', '', '', '', '', '', '', '', '']\n",
      "on_publish <paho.mqtt.client.Client object at 0x7f1130927828> None 11\n",
      "on_message <paho.mqtt.client.Client object at 0x7f1130927828> <paho.mqtt.client.MQTTMessage object at 0x7f113036d198> vocopi/spoken b'Elijah on'\n",
      "['Elijah', 'on', '', '', '', '', '', '', '', '']\n",
      "on_publish <paho.mqtt.client.Client object at 0x7f1130927828> None 12\n",
      "on_message <paho.mqtt.client.Client object at 0x7f1130927828> <paho.mqtt.client.MQTTMessage object at 0x7f113036d198> vocopi/spoken b'Elijah on'\n",
      "['Elijah', 'on', '', '', '', '', '', '', '', '']\n",
      "on_publish <paho.mqtt.client.Client object at 0x7f1130927828> None 13\n",
      "on_message <paho.mqtt.client.Client object at 0x7f1130927828> <paho.mqtt.client.MQTTMessage object at 0x7f113036d198> vocopi/spoken b'Liza aan'\n",
      "['Liza', 'aan', '', '', '', '', '', '', '', '']\n",
      "on_publish <paho.mqtt.client.Client object at 0x7f1130927828> None 14\n",
      "on_message <paho.mqtt.client.Client object at 0x7f1130927828> <paho.mqtt.client.MQTTMessage object at 0x7f113036d198> vocopi/spoken b'Eliza on'\n",
      "['Eliza', 'on', '', '', '', '', '', '', '', '']\n",
      "on_publish <paho.mqtt.client.Client object at 0x7f1130927828> None 15\n",
      "on_message <paho.mqtt.client.Client object at 0x7f1130927828> <paho.mqtt.client.MQTTMessage object at 0x7f113036d198> vocopi/spoken b'Google event'\n",
      "['Google', 'event', '', '', '', '', '', '', '', '']\n",
      "on_publish <paho.mqtt.client.Client object at 0x7f1130379780> None 2\n",
      "on_message <paho.mqtt.client.Client object at 0x7f1130927828> <paho.mqtt.client.MQTTMessage object at 0x7f113036d198> vocopi/spoken b'Paralyzer'\n",
      "['Paralyzer', '', '', '', '', '', '', '', '', '']\n",
      "on_publish <paho.mqtt.client.Client object at 0x7f1130379780> None 3\n",
      "on_message <paho.mqtt.client.Client object at 0x7f1130927828> <paho.mqtt.client.MQTTMessage object at 0x7f113036d198> vocopi/spoken b'power'\n",
      "['power', '', '', '', '', '', '', '', '', '']\n",
      "on_publish <paho.mqtt.client.Client object at 0x7f1130379780> None 4\n",
      "on_message <paho.mqtt.client.Client object at 0x7f1130927828> <paho.mqtt.client.MQTTMessage object at 0x7f113036d198> vocopi/spoken b'business'\n",
      "['business', '', '', '', '', '', '', '', '', '']\n",
      "on_publish <paho.mqtt.client.Client object at 0x7f1130379780> None 5\n",
      "on_message <paho.mqtt.client.Client object at 0x7f1130927828> <paho.mqtt.client.MQTTMessage object at 0x7f113036d198> vocopi/spoken b'Alexa off'\n",
      "['Alexa', 'off', '', '', '', '', '', '', '', '']\n",
      "on_publish <paho.mqtt.client.Client object at 0x7f1130379780> None 6\n",
      "on_message <paho.mqtt.client.Client object at 0x7f1130927828> <paho.mqtt.client.MQTTMessage object at 0x7f113036d198> vocopi/spoken b'Elijah off'\n",
      "['Elijah', 'off', '', '', '', '', '', '', '', '']\n",
      "on_publish <paho.mqtt.client.Client object at 0x7f1130379780> None 7\n",
      "on_message <paho.mqtt.client.Client object at 0x7f1130927828> <paho.mqtt.client.MQTTMessage object at 0x7f113036d198> vocopi/spoken b'Elijah off'\n",
      "['Elijah', 'off', '', '', '', '', '', '', '', '']\n",
      "on_publish <paho.mqtt.client.Client object at 0x7f1130379780> None 8\n",
      "on_message <paho.mqtt.client.Client object at 0x7f1130927828> <paho.mqtt.client.MQTTMessage object at 0x7f113036d198> vocopi/spoken b'Elijah off'\n",
      "['Elijah', 'off', '', '', '', '', '', '', '', '']\n",
      "on_publish <paho.mqtt.client.Client object at 0x7f1130379780> None 9\n",
      "on_message <paho.mqtt.client.Client object at 0x7f1130927828> <paho.mqtt.client.MQTTMessage object at 0x7f113036d198> vocopi/spoken b'Alexa off'\n",
      "['Alexa', 'off', '', '', '', '', '', '', '', '']\n",
      "on_publish <paho.mqtt.client.Client object at 0x7f1130379780> None 10\n",
      "on_message <paho.mqtt.client.Client object at 0x7f1130927828> <paho.mqtt.client.MQTTMessage object at 0x7f113036d198> vocopi/spoken b'Elijah off'\n",
      "['Elijah', 'off', '', '', '', '', '', '', '', '']\n",
      "on_publish <paho.mqtt.client.Client object at 0x7f1130379780> None 11\n",
      "on_message <paho.mqtt.client.Client object at 0x7f1130927828> <paho.mqtt.client.MQTTMessage object at 0x7f113036d198> vocopi/spoken b'Elijah off'\n",
      "['Elijah', 'off', '', '', '', '', '', '', '', '']\n",
      "on_publish <paho.mqtt.client.Client object at 0x7f1130379780> None 12\n",
      "on_message <paho.mqtt.client.Client object at 0x7f1130927828> <paho.mqtt.client.MQTTMessage object at 0x7f113036d198> vocopi/spoken b'Elijah off'\n",
      "['Elijah', 'off', '', '', '', '', '', '', '', '']\n",
      "on_publish <paho.mqtt.client.Client object at 0x7f1130379780> None 13\n",
      "on_message <paho.mqtt.client.Client object at 0x7f1130927828> <paho.mqtt.client.MQTTMessage object at 0x7f113036d198> vocopi/spoken b'Elijah off'\n",
      "['Elijah', 'off', '', '', '', '', '', '', '', '']\n",
      "on_publish <paho.mqtt.client.Client object at 0x7f1130379780> None 14\n",
      "on_message <paho.mqtt.client.Client object at 0x7f1130927828> <paho.mqtt.client.MQTTMessage object at 0x7f113036d198> vocopi/spoken b'Elijah off'\n",
      "['Elijah', 'off', '', '', '', '', '', '', '', '']\n",
      "on_publish <paho.mqtt.client.Client object at 0x7f1130379780> None 15\n",
      "on_message <paho.mqtt.client.Client object at 0x7f1130927828> <paho.mqtt.client.MQTTMessage object at 0x7f113036d198> vocopi/spoken b'Elijah off'\n",
      "['Elijah', 'off', '', '', '', '', '', '', '', '']\n",
      "on_publish <paho.mqtt.client.Client object at 0x7f1130379780> None 16\n",
      "on_message <paho.mqtt.client.Client object at 0x7f1130927828> <paho.mqtt.client.MQTTMessage object at 0x7f113036d198> vocopi/spoken b'Elijah off'\n",
      "['Elijah', 'off', '', '', '', '', '', '', '', '']\n",
      "on_publish <paho.mqtt.client.Client object at 0x7f1130379780> None 17\n",
      "on_message <paho.mqtt.client.Client object at 0x7f1130927828> <paho.mqtt.client.MQTTMessage object at 0x7f113036d198> vocopi/spoken b'Elijah off'\n",
      "['Elijah', 'off', '', '', '', '', '', '', '', '']\n",
      "on_publish <paho.mqtt.client.Client object at 0x7f1130379780> None 18\n",
      "on_message <paho.mqtt.client.Client object at 0x7f1130927828> <paho.mqtt.client.MQTTMessage object at 0x7f113036d198> vocopi/spoken b'Elijah off'\n",
      "['Elijah', 'off', '', '', '', '', '', '', '', '']\n",
      "on_publish <paho.mqtt.client.Client object at 0x7f1130379780> None 19\n",
      "on_message <paho.mqtt.client.Client object at 0x7f1130927828> <paho.mqtt.client.MQTTMessage object at 0x7f113036d198> vocopi/spoken b\"Eli's off\"\n",
      "[\"Eli's\", 'off', '', '', '', '', '', '', '', '']\n",
      "on_publish <paho.mqtt.client.Client object at 0x7f1130379780> None 20\n"
     ]
    },
    {
     "name": "stdout",
     "output_type": "stream",
     "text": [
      "on_message <paho.mqtt.client.Client object at 0x7f1130927828> <paho.mqtt.client.MQTTMessage object at 0x7f113036d198> vocopi/spoken b'Eliza off'\n",
      "['Eliza', 'off', '', '', '', '', '', '', '', '']\n",
      "on_publish <paho.mqtt.client.Client object at 0x7f1130927828> None 16\n",
      "on_message <paho.mqtt.client.Client object at 0x7f1130927828> <paho.mqtt.client.MQTTMessage object at 0x7f113036d198> vocopi/spoken b'okay'\n",
      "['okay', '', '', '', '', '', '', '', '', '']\n",
      "on_publish <paho.mqtt.client.Client object at 0x7f1130927828> None 17\n",
      "on_message <paho.mqtt.client.Client object at 0x7f1130927828> <paho.mqtt.client.MQTTMessage object at 0x7f113036d0b8> vocopi/spoken b'turn on the radio turn on windscreen wipers turn on the radio'\n",
      "['turn', 'on', 'the', 'radio', 'turn', 'on', 'windscreen', 'wipers', 'turn', 'on', 'the', 'radio']\n",
      "on_message <paho.mqtt.client.Client object at 0x7f1130927828> <paho.mqtt.client.MQTTMessage object at 0x7f113036d0b8> vocopi/spoken b'classical and it goes it looks like this music is already on'\n",
      "['classical', 'and', 'it', 'goes', 'it', 'looks', 'like', 'this', 'music', 'is', 'already', 'on']\n",
      "on_message <paho.mqtt.client.Client object at 0x7f1130927828> <paho.mqtt.client.MQTTMessage object at 0x7f113036d2e8> vocopi/spoken b'turn off'\n",
      "['turn', 'off', '', '', '', '', '', '', '', '']\n",
      "on_publish <paho.mqtt.client.Client object at 0x7f1130927828> None 18\n",
      "on_message <paho.mqtt.client.Client object at 0x7f1130927828> <paho.mqtt.client.MQTTMessage object at 0x7f113036d2e8> vocopi/spoken b'something'\n",
      "['something', '', '', '', '', '', '', '', '', '']\n",
      "on_publish <paho.mqtt.client.Client object at 0x7f1130927828> None 19\n",
      "on_message <paho.mqtt.client.Client object at 0x7f1130927828> <paho.mqtt.client.MQTTMessage object at 0x7f113036d2e8> vocopi/spoken b\"it doesn't you don't get no bigger than this\"\n",
      "['it', \"doesn't\", 'you', \"don't\", 'get', 'no', 'bigger', 'than', 'this', '']\n",
      "on_message <paho.mqtt.client.Client object at 0x7f1130927828> <paho.mqtt.client.MQTTMessage object at 0x7f113036d2e8> vocopi/spoken b'oops'\n",
      "['oops', '', '', '', '', '', '', '', '', '']\n",
      "on_publish <paho.mqtt.client.Client object at 0x7f1130927828> None 20\n",
      "on_message <paho.mqtt.client.Client object at 0x7f1130927828> <paho.mqtt.client.MQTTMessage object at 0x7f113036d2e8> vocopi/spoken b'mr.'\n",
      "['mr.', '', '', '', '', '', '', '', '', '']\n",
      "on_publish <paho.mqtt.client.Client object at 0x7f1130927828> None 21\n",
      "on_message <paho.mqtt.client.Client object at 0x7f1130927828> <paho.mqtt.client.MQTTMessage object at 0x7f113036d2e8> vocopi/spoken b'Elijah'\n",
      "['Elijah', '', '', '', '', '', '', '', '', '']\n",
      "on_publish <paho.mqtt.client.Client object at 0x7f1130927828> None 22\n",
      "on_message <paho.mqtt.client.Client object at 0x7f1130927828> <paho.mqtt.client.MQTTMessage object at 0x7f113036d2e8> vocopi/spoken b'as usual Elijah on'\n",
      "['as', 'usual', 'Elijah', 'on', '', '', '', '', '', '']\n",
      "on_message <paho.mqtt.client.Client object at 0x7f1130927828> <paho.mqtt.client.MQTTMessage object at 0x7f113036d2e8> vocopi/spoken b'Raisa on'\n",
      "['Raisa', 'on', '', '', '', '', '', '', '', '']\n",
      "on_publish <paho.mqtt.client.Client object at 0x7f1130927828> None 23\n",
      "on_message <paho.mqtt.client.Client object at 0x7f1130927828> <paho.mqtt.client.MQTTMessage object at 0x7f113036d2e8> vocopi/spoken b'Eliza on'\n",
      "['Eliza', 'on', '', '', '', '', '', '', '', '']\n",
      "on_publish <paho.mqtt.client.Client object at 0x7f1130927828> None 24\n",
      "on_message <paho.mqtt.client.Client object at 0x7f1130927828> <paho.mqtt.client.MQTTMessage object at 0x7f113036d2e8> vocopi/spoken b'hello Liza'\n",
      "['hello', 'Liza', '', '', '', '', '', '', '', '']\n",
      "on_publish <paho.mqtt.client.Client object at 0x7f1130379780> None 21\n",
      "on_message <paho.mqtt.client.Client object at 0x7f1130379780> <paho.mqtt.client.MQTTMessage object at 0x7f113036d2e8> eliza/jcomputer/out b'Hi. What seems to be your problem ?'\n",
      "on_publish <paho.mqtt.client.Client object at 0x7f1130927828> None 25\n",
      "on_message <paho.mqtt.client.Client object at 0x7f1130927828> <paho.mqtt.client.MQTTMessage object at 0x7f113036d2e8> vocopi/spoken b'I have too much to do'\n",
      "['I', 'have', 'too', 'much', 'to', 'do', '', '', '', '']\n",
      "on_publish <paho.mqtt.client.Client object at 0x7f1130379780> None 22\n",
      "on_message <paho.mqtt.client.Client object at 0x7f1130379780> <paho.mqtt.client.MQTTMessage object at 0x7f113036d2e8> eliza/jcomputer/out b\"That's quite interesting.\"\n",
      "on_publish <paho.mqtt.client.Client object at 0x7f1130927828> None 26\n",
      "on_message <paho.mqtt.client.Client object at 0x7f1130927828> <paho.mqtt.client.MQTTMessage object at 0x7f113036d2e8> vocopi/spoken b\"well I'm very glad you think so\"\n",
      "['well', \"I'm\", 'very', 'glad', 'you', 'think', 'so', '', '', '']\n",
      "on_publish <paho.mqtt.client.Client object at 0x7f1130379780> None 23\n",
      "on_message <paho.mqtt.client.Client object at 0x7f1130379780> <paho.mqtt.client.MQTTMessage object at 0x7f113036d2e8> eliza/jcomputer/out b'Can you explain why you are suddenly glad ?'\n",
      "on_publish <paho.mqtt.client.Client object at 0x7f1130927828> None 27\n",
      "on_message <paho.mqtt.client.Client object at 0x7f1130927828> <paho.mqtt.client.MQTTMessage object at 0x7f113036d2e8> vocopi/spoken b\"because if you're happy I'm happy\"\n",
      "['because', 'if', \"you're\", 'happy', \"I'm\", 'happy', '', '', '', '']\n",
      "on_publish <paho.mqtt.client.Client object at 0x7f1130379780> None 24\n",
      "on_message <paho.mqtt.client.Client object at 0x7f1130379780> <paho.mqtt.client.MQTTMessage object at 0x7f113036d2e8> eliza/jcomputer/out b'Really, if I are happy you are happy ?'\n",
      "on_publish <paho.mqtt.client.Client object at 0x7f1130927828> None 28\n",
      "on_message <paho.mqtt.client.Client object at 0x7f1130927828> <paho.mqtt.client.MQTTMessage object at 0x7f113036d2e8> vocopi/spoken b'what did you learn Grandma Elijah'\n",
      "['what', 'did', 'you', 'learn', 'Grandma', 'Elijah', '', '', '', '']\n",
      "on_publish <paho.mqtt.client.Client object at 0x7f1130379780> None 25\n",
      "on_message <paho.mqtt.client.Client object at 0x7f1130379780> <paho.mqtt.client.MQTTMessage object at 0x7f113036d2e8> eliza/jcomputer/out b'What are your feelings now ?'\n",
      "on_publish <paho.mqtt.client.Client object at 0x7f1130927828> None 29\n",
      "on_message <paho.mqtt.client.Client object at 0x7f1130927828> <paho.mqtt.client.MQTTMessage object at 0x7f113036d2e8> vocopi/spoken b\"I'm slightly disappointed in your abilities\"\n",
      "[\"I'm\", 'slightly', 'disappointed', 'in', 'your', 'abilities', '', '', '', '']\n",
      "on_publish <paho.mqtt.client.Client object at 0x7f1130379780> None 26\n",
      "on_message <paho.mqtt.client.Client object at 0x7f1130379780> <paho.mqtt.client.MQTTMessage object at 0x7f113036d2e8> eliza/jcomputer/out b'Do you believe it is normal to be slightly disappointed in my abilities ?'\n",
      "on_publish <paho.mqtt.client.Client object at 0x7f1130927828> None 30\n",
      "on_message <paho.mqtt.client.Client object at 0x7f1130927828> <paho.mqtt.client.MQTTMessage object at 0x7f113036d198> vocopi/spoken b'having had some conversations with you i am coming to that conclusion yes'\n",
      "['having', 'had', 'some', 'conversations', 'with', 'you', 'i', 'am', 'coming', 'to', 'that', 'conclusion', 'yes']\n",
      "on_publish <paho.mqtt.client.Client object at 0x7f1130379780> None 27\n",
      "on_message <paho.mqtt.client.Client object at 0x7f1130379780> <paho.mqtt.client.MQTTMessage object at 0x7f113036d2e8> eliza/jcomputer/out b'Do you know anyone else who is coming to that conclusion yes ?'\n",
      "on_publish <paho.mqtt.client.Client object at 0x7f1130927828> None 31\n",
      "on_message <paho.mqtt.client.Client object at 0x7f1130927828> <paho.mqtt.client.MQTTMessage object at 0x7f113036d2e8> vocopi/spoken b'looking something'\n",
      "['looking', 'something', '', '', '', '', '', '', '', '']\n",
      "on_publish <paho.mqtt.client.Client object at 0x7f1130379780> None 28\n",
      "on_message <paho.mqtt.client.Client object at 0x7f1130379780> <paho.mqtt.client.MQTTMessage object at 0x7f113036d198> eliza/jcomputer/out b'Does talking about this bother you ?'\n",
      "on_publish <paho.mqtt.client.Client object at 0x7f1130927828> None 32\n",
      "on_message <paho.mqtt.client.Client object at 0x7f1130927828> <paho.mqtt.client.MQTTMessage object at 0x7f113036d198> vocopi/spoken b'what does the what'\n",
      "['what', 'does', 'the', 'what', '', '', '', '', '', '']\n",
      "on_publish <paho.mqtt.client.Client object at 0x7f1130379780> None 29\n",
      "on_message <paho.mqtt.client.Client object at 0x7f1130379780> <paho.mqtt.client.MQTTMessage object at 0x7f113036d198> eliza/jcomputer/out b'What answer would please you most ?'\n",
      "on_publish <paho.mqtt.client.Client object at 0x7f1130927828> None 33\n"
     ]
    },
    {
     "name": "stdout",
     "output_type": "stream",
     "text": [
      "on_message <paho.mqtt.client.Client object at 0x7f1130927828> <paho.mqtt.client.MQTTMessage object at 0x7f113036d198> vocopi/spoken b\"I don't know it depends on what the question was\"\n",
      "['I', \"don't\", 'know', 'it', 'depends', 'on', 'what', 'the', 'question', 'was']\n",
      "on_publish <paho.mqtt.client.Client object at 0x7f1130379780> None 30\n",
      "on_message <paho.mqtt.client.Client object at 0x7f1130379780> <paho.mqtt.client.MQTTMessage object at 0x7f113036d198> eliza/jcomputer/out b'Do you wish to be able to know it depends on what the question was ?'\n",
      "on_publish <paho.mqtt.client.Client object at 0x7f1130927828> None 34\n",
      "on_message <paho.mqtt.client.Client object at 0x7f1130927828> <paho.mqtt.client.MQTTMessage object at 0x7f113036d198> vocopi/spoken b'yes please'\n",
      "['yes', 'please', '', '', '', '', '', '', '', '']\n",
      "on_publish <paho.mqtt.client.Client object at 0x7f1130379780> None 31\n",
      "on_message <paho.mqtt.client.Client object at 0x7f1130379780> <paho.mqtt.client.MQTTMessage object at 0x7f113036d198> eliza/jcomputer/out b'You seem to be quite positive.'\n",
      "on_publish <paho.mqtt.client.Client object at 0x7f1130927828> None 35\n",
      "on_message <paho.mqtt.client.Client object at 0x7f1130927828> <paho.mqtt.client.MQTTMessage object at 0x7f113036d198> vocopi/spoken b\"it's quite long time to click Sony\"\n",
      "[\"it's\", 'quite', 'long', 'time', 'to', 'click', 'Sony', '', '', '']\n",
      "on_publish <paho.mqtt.client.Client object at 0x7f1130379780> None 32\n",
      "on_message <paho.mqtt.client.Client object at 0x7f1130379780> <paho.mqtt.client.MQTTMessage object at 0x7f113036d198> eliza/jcomputer/out b'Tell me more about that.'\n",
      "on_publish <paho.mqtt.client.Client object at 0x7f1130927828> None 36\n",
      "on_message <paho.mqtt.client.Client object at 0x7f1130927828> <paho.mqtt.client.MQTTMessage object at 0x7f113036d198> vocopi/spoken b\"I don't know anything more about that\"\n",
      "['I', \"don't\", 'know', 'anything', 'more', 'about', 'that', '', '', '']\n",
      "on_publish <paho.mqtt.client.Client object at 0x7f1130379780> None 33\n",
      "on_message <paho.mqtt.client.Client object at 0x7f1130379780> <paho.mqtt.client.MQTTMessage object at 0x7f113036d198> eliza/jcomputer/out b'Does that trouble you ?'\n",
      "on_publish <paho.mqtt.client.Client object at 0x7f1130927828> None 37\n",
      "on_message <paho.mqtt.client.Client object at 0x7f1130927828> <paho.mqtt.client.MQTTMessage object at 0x7f113036d198> vocopi/spoken b'how old is Elijah'\n",
      "['how', 'old', 'is', 'Elijah', '', '', '', '', '', '']\n",
      "on_publish <paho.mqtt.client.Client object at 0x7f1130379780> None 34\n",
      "on_message <paho.mqtt.client.Client object at 0x7f1130379780> <paho.mqtt.client.MQTTMessage object at 0x7f113036d198> eliza/jcomputer/out b'What comes to mind when you ask that ?'\n",
      "on_publish <paho.mqtt.client.Client object at 0x7f1130927828> None 38\n",
      "on_message <paho.mqtt.client.Client object at 0x7f1130927828> <paho.mqtt.client.MQTTMessage object at 0x7f113036d2e8> vocopi/spoken b'your age'\n",
      "['your', 'age', '', '', '', '', '', '', '', '']\n",
      "on_publish <paho.mqtt.client.Client object at 0x7f1130379780> None 35\n",
      "on_message <paho.mqtt.client.Client object at 0x7f1130379780> <paho.mqtt.client.MQTTMessage object at 0x7f113036d2e8> eliza/jcomputer/out b'Really, my age ?'\n",
      "on_publish <paho.mqtt.client.Client object at 0x7f1130927828> None 39\n",
      "on_message <paho.mqtt.client.Client object at 0x7f1130927828> <paho.mqtt.client.MQTTMessage object at 0x7f113036d2e8> vocopi/spoken b'yes could you tell me your age'\n",
      "['yes', 'could', 'you', 'tell', 'me', 'your', 'age', '', '', '']\n",
      "on_publish <paho.mqtt.client.Client object at 0x7f1130379780> None 36\n",
      "on_message <paho.mqtt.client.Client object at 0x7f1130379780> <paho.mqtt.client.MQTTMessage object at 0x7f113036d2e8> eliza/jcomputer/out b'What makes you think of my age ?'\n",
      "on_publish <paho.mqtt.client.Client object at 0x7f1130927828> None 40\n",
      "on_message <paho.mqtt.client.Client object at 0x7f1130927828> <paho.mqtt.client.MQTTMessage object at 0x7f113036d2e8> vocopi/spoken b'Akita'\n",
      "['Akita', '', '', '', '', '', '', '', '', '']\n",
      "on_publish <paho.mqtt.client.Client object at 0x7f1130379780> None 37\n",
      "on_message <paho.mqtt.client.Client object at 0x7f1130379780> <paho.mqtt.client.MQTTMessage object at 0x7f113036d2e8> eliza/jcomputer/out b'Does talking about this bother you ?'\n",
      "on_publish <paho.mqtt.client.Client object at 0x7f1130927828> None 41\n",
      "on_message <paho.mqtt.client.Client object at 0x7f1130927828> <paho.mqtt.client.MQTTMessage object at 0x7f113036d2e8> vocopi/spoken b'name of the parody of responses'\n",
      "['name', 'of', 'the', 'parody', 'of', 'responses', '', '', '', '']\n",
      "on_publish <paho.mqtt.client.Client object at 0x7f1130379780> None 38\n",
      "on_message <paho.mqtt.client.Client object at 0x7f1130379780> <paho.mqtt.client.MQTTMessage object at 0x7f113036d2e8> eliza/jcomputer/out b\"I've told you before, I don't care about names -- please continue.\"\n",
      "on_publish <paho.mqtt.client.Client object at 0x7f1130927828> None 42\n",
      "on_message <paho.mqtt.client.Client object at 0x7f1130927828> <paho.mqtt.client.MQTTMessage object at 0x7f113036d2e8> vocopi/spoken b'therapist'\n",
      "['therapist', '', '', '', '', '', '', '', '', '']\n",
      "on_publish <paho.mqtt.client.Client object at 0x7f1130379780> None 39\n",
      "on_message <paho.mqtt.client.Client object at 0x7f1130379780> <paho.mqtt.client.MQTTMessage object at 0x7f113036d2e8> eliza/jcomputer/out b'That is interesting. Please continue.'\n",
      "on_publish <paho.mqtt.client.Client object at 0x7f1130927828> None 43\n",
      "on_message <paho.mqtt.client.Client object at 0x7f1130927828> <paho.mqtt.client.MQTTMessage object at 0x7f113036d2e8> vocopi/spoken b'how long should I wait'\n",
      "['how', 'long', 'should', 'I', 'wait', '', '', '', '', '']\n",
      "on_publish <paho.mqtt.client.Client object at 0x7f1130379780> None 40\n",
      "on_message <paho.mqtt.client.Client object at 0x7f1130379780> <paho.mqtt.client.MQTTMessage object at 0x7f113036d198> eliza/jcomputer/out b'You say how long should you wait ?'\n",
      "on_publish <paho.mqtt.client.Client object at 0x7f1130927828> None 44\n",
      "on_message <paho.mqtt.client.Client object at 0x7f1130927828> <paho.mqtt.client.MQTTMessage object at 0x7f113036d198> vocopi/spoken b'time'\n",
      "['time', '', '', '', '', '', '', '', '', '']\n",
      "on_publish <paho.mqtt.client.Client object at 0x7f1130379780> None 41\n",
      "on_message <paho.mqtt.client.Client object at 0x7f1130379780> <paho.mqtt.client.MQTTMessage object at 0x7f113036d198> eliza/jcomputer/out b'Tell me more about that.'\n",
      "on_publish <paho.mqtt.client.Client object at 0x7f1130927828> None 45\n",
      "on_message <paho.mqtt.client.Client object at 0x7f1130927828> <paho.mqtt.client.MQTTMessage object at 0x7f113036d198> vocopi/spoken b\"I'm getting vehicle\"\n",
      "[\"I'm\", 'getting', 'vehicle', '', '', '', '', '', '', '']\n",
      "on_publish <paho.mqtt.client.Client object at 0x7f1130379780> None 42\n",
      "on_message <paho.mqtt.client.Client object at 0x7f1130379780> <paho.mqtt.client.MQTTMessage object at 0x7f113036d2e8> eliza/jcomputer/out b'Do you believe it is normal to be getting vehicle ?'\n",
      "on_publish <paho.mqtt.client.Client object at 0x7f1130927828> None 46\n",
      "on_disconnect <paho.mqtt.client.Client object at 0x7f1130927828> None 1\n",
      "on_disconnect <paho.mqtt.client.Client object at 0x7f1130927828> None 1\n",
      "on_disconnect <paho.mqtt.client.Client object at 0x7f1130379780> None 1\n",
      "on_disconnect <paho.mqtt.client.Client object at 0x7f1130379780> None 1\n"
     ]
    }
   ],
   "source": [
    "while True:\n",
    "    mqttclient.loop(0.2)\n",
    "    if elizaclient:\n",
    "        elizaclient.loop(0.1)"
   ]
  },
  {
   "cell_type": "code",
   "execution_count": null,
   "metadata": {
    "collapsed": true
   },
   "outputs": [],
   "source": []
  }
 ],
 "metadata": {
  "kernelspec": {
   "display_name": "Python 3",
   "language": "python",
   "name": "python3"
  },
  "language_info": {
   "codemirror_mode": {
    "name": "ipython",
    "version": 3
   },
   "file_extension": ".py",
   "mimetype": "text/x-python",
   "name": "python",
   "nbconvert_exporter": "python",
   "pygments_lexer": "ipython3",
   "version": "3.6.1"
  }
 },
 "nbformat": 4,
 "nbformat_minor": 2
}
