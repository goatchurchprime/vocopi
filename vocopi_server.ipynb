{
 "cells": [
  {
   "cell_type": "code",
   "execution_count": 62,
   "metadata": {},
   "outputs": [
    {
     "name": "stdout",
     "output_type": "stream",
     "text": [
      "made and attempting to connect <paho.mqtt.client.Client object at 0x7f35e98101d0>\n",
      "on_publish <paho.mqtt.client.Client object at 0x7f35e98101d0> None 2\n"
     ]
    },
    {
     "data": {
      "text/plain": [
       "<paho.mqtt.client.MQTTMessageInfo at 0x7f35e97aed18>"
      ]
     },
     "execution_count": 62,
     "metadata": {},
     "output_type": "execute_result"
    }
   ],
   "source": [
    "import paho.mqtt.client\n",
    "mqttbroker = \"mqtt.local\"   # set to None to disable\n",
    "mqttspoken = \"vocopi/spoken\"\n",
    "mqtttohear = \"vocopi/tohear\"\n",
    "mqttclient = None\n",
    "history = [ ]\n",
    "\n",
    "def process(transcript):\n",
    "    print(\"not overloaded yet\")\n",
    "\n",
    "mqttclient = paho.mqtt.client.Client(client_id=\"jcomputer\")   # global object\n",
    "def on_connect(client, userdata, flags, rc):\n",
    "    print(\"on_connect\", client, userdata, flags, rc)\n",
    "def on_disconnect(client, userdata, rc):\n",
    "    print(\"on_disconnect\", client, userdata, rc)\n",
    "def on_publish(client, userdata, mid):\n",
    "    print(\"on_publish\", client, userdata, mid)\n",
    "def on_message(client, userdata, message):\n",
    "    print(\"on_message\", client, message, message.topic, message.payload)\n",
    "    history.append((\"received\", message.payload.decode()))\n",
    "    process(message.payload.decode())\n",
    "\n",
    "mqttclient.on_connect = on_connect\n",
    "mqttclient.on_publish = on_publish\n",
    "mqttclient.on_disconnect = on_disconnect\n",
    "mqttclient.on_message = on_message\n",
    "print(\"made and attempting to connect\", mqttclient)\n",
    "mqttclient.connect(mqttbroker)\n",
    "mqttclient.subscribe(mqttspoken)\n",
    "\n",
    "mqttclient.publish(mqtttohear, \"12,20 the computer is ready\")"
   ]
  },
  {
   "cell_type": "code",
   "execution_count": 72,
   "metadata": {},
   "outputs": [
    {
     "name": "stdout",
     "output_type": "stream",
     "text": [
      "made and attempting to connect <paho.mqtt.client.Client object at 0x7f35e9810518>\n"
     ]
    },
    {
     "data": {
      "text/plain": [
       "0"
      ]
     },
     "execution_count": 72,
     "metadata": {},
     "output_type": "execute_result"
    }
   ],
   "source": [
    "# eliza client (set to None if disabled)\n",
    "elizabroker = \"nodered.dynamicdevices.co.uk\"\n",
    "elizain = \"eliza/jcomputer/in\"\n",
    "elizaout = \"eliza/jcomputer/out\"\n",
    "\n",
    "elizaclient = paho.mqtt.client.Client(client_id=\"jj\")\n",
    "def on_ezmessage(client, userdata, message):\n",
    "    print(\"on_message\", client, message, message.topic, message.payload)\n",
    "    say(\"40,50\"+message.payload.decode())\n",
    "\n",
    "elizaclient.on_connect = on_connect\n",
    "elizaclient.on_publish = on_publish\n",
    "elizaclient.on_disconnect = on_disconnect\n",
    "elizaclient.on_message = on_ezmessage\n",
    "print(\"made and attempting to connect\", elizaclient)\n",
    "elizaclient.connect(elizabroker)\n",
    "elizaclient.subscribe(elizaout)\n",
    "elizaclient.loop()\n"
   ]
  },
  {
   "cell_type": "code",
   "execution_count": null,
   "metadata": {
    "collapsed": true
   },
   "outputs": [],
   "source": []
  },
  {
   "cell_type": "code",
   "execution_count": 70,
   "metadata": {},
   "outputs": [
    {
     "name": "stdout",
     "output_type": "stream",
     "text": [
      "on_connect <paho.mqtt.client.Client object at 0x7f35e9813e80> None {'session present': 0} 0\n"
     ]
    },
    {
     "data": {
      "text/plain": [
       "0"
      ]
     },
     "execution_count": 70,
     "metadata": {},
     "output_type": "execute_result"
    }
   ],
   "source": [
    "elizaclient.loop()\n"
   ]
  },
  {
   "cell_type": "code",
   "execution_count": 49,
   "metadata": {
    "collapsed": true
   },
   "outputs": [],
   "source": [
    "#elizaclient = None\n",
    "# mosquitto_sub -h mqtt.local -v -t vocopi/spoken"
   ]
  },
  {
   "cell_type": "code",
   "execution_count": 65,
   "metadata": {},
   "outputs": [
    {
     "name": "stdout",
     "output_type": "stream",
     "text": [
      "on_publish <paho.mqtt.client.Client object at 0x7f35e98101d0> None 5\n"
     ]
    },
    {
     "data": {
      "text/plain": [
       "<paho.mqtt.client.MQTTMessageInfo at 0x7f35e97aeb88>"
      ]
     },
     "execution_count": 65,
     "metadata": {},
     "output_type": "execute_result"
    }
   ],
   "source": [
    "mqttclient.publish(mqtttohear, \"40,50,hi there\")"
   ]
  },
  {
   "cell_type": "code",
   "execution_count": 11,
   "metadata": {},
   "outputs": [
    {
     "name": "stdout",
     "output_type": "stream",
     "text": [
      "on_connect <paho.mqtt.client.Client object at 0x7f35f8060a90> None {'session present': 0} 0\n"
     ]
    },
    {
     "data": {
      "text/plain": [
       "0"
      ]
     },
     "execution_count": 11,
     "metadata": {},
     "output_type": "execute_result"
    }
   ],
   "source": [
    "mqttclient.loop()\n"
   ]
  },
  {
   "cell_type": "code",
   "execution_count": null,
   "metadata": {
    "collapsed": true
   },
   "outputs": [],
   "source": []
  },
  {
   "cell_type": "code",
   "execution_count": null,
   "metadata": {
    "collapsed": true
   },
   "outputs": [],
   "source": []
  },
  {
   "cell_type": "code",
   "execution_count": 66,
   "metadata": {
    "collapsed": true
   },
   "outputs": [],
   "source": [
    "import re\n",
    "def say(t):\n",
    "    if not re.match(\"\\d\", t):\n",
    "        t = \"40,90 \"+t\n",
    "    mqttclient.publish(mqtttohear, t)\n",
    "    \n",
    "import time, datetime\n",
    "\n",
    "tprevaction = 0\n",
    "makestate = \"\"\n",
    "\n",
    "\n",
    "coffeereport = [ \"Coffee making report for \"+datetime.datetime.now().isoformat(), \"\" ]\n",
    "\n",
    "coffeesteps = [ \"\", \"put the old filter into the compost\", \n",
    "                \"find a new coffee filter\", \n",
    "                \"add one measure of coffee to the filter\", \n",
    "                \"replace the filter funnel into machine\", \n",
    " #             \"fill the jug with cold water\", \"pour water into the machine\", \"place jug on the hotplate\", \"turn on the machine\", \n",
    "              \"you are now done, wait for your coffee while I print the report\" ]\n",
    "\n",
    "def coffeemakingchecklist(words, say):\n",
    "    global tprevaction, makestate\n",
    "    print(\"cmc\", words, makestate)\n",
    "    if makestate == \"commenced\":\n",
    "        say(\"Commencing the coffee making checklist.  Say check if done, or comment to add notes\")\n",
    "        makestate = 0\n",
    "        words = [\"check\", \"\", \"\", \"\"]\n",
    "        \n",
    "    if words[0] == \"repeat\" or words[1] == \"repeat\":\n",
    "        say(\"repeating item %d\" % makestate)\n",
    "        say(coffeesteps[makestate])\n",
    "        return True\n",
    "        \n",
    "    if words[0] == \"check\":\n",
    "        if makestate != 0:\n",
    "            coffeereport.append(\"   \"+datetime.datetime.now().isoformat()+\"  check\")\n",
    "        makestate += 1\n",
    "        say(coffeesteps[makestate])\n",
    "        if makestate == len(coffeesteps) - 1:\n",
    "            makestate = \"\"\n",
    "            open(\"coffeereport.txt\", \"w\").write(\"\\n\".join(coffeereport))\n",
    "            return True\n",
    "        coffeereport.append(\"\")\n",
    "        coffeereport.append(coffeesteps[makestate])\n",
    "        return True\n",
    "        \n",
    "    if words[0] in [\"close\", \"end\", \"stop\"] and words[1] == \"checklist\":\n",
    "        say(\"coffee making checklist aborted\")\n",
    "        makestate = \"\"\n",
    "        return True\n",
    "        \n",
    "    if words[0] and type(makestate) == int:\n",
    "        coffeereport.append(\"   \"+datetime.datetime.now().isoformat()+\" \"+\" \".join(words[:]))\n",
    "        say(\"your comment on item %d has been noted\" % makestate)\n",
    "        return True\n",
    "                \n",
    "        \n",
    "    say(\"You said \"+\" \".join(words)+\" while making coffee\")\n",
    "    return True\n",
    "    \n",
    "\n",
    "elizaworking = False\n",
    "\n",
    "def process(transcript):\n",
    "    global tprevaction, makestate, elizaworking\n",
    "    \n",
    "    words = transcript.split()\n",
    "    wc = len(words)\n",
    "    tnow = time.time()\n",
    "    dtime = tnow - tprevaction\n",
    "    while len(words)<10:\n",
    "        words.append(\"\")\n",
    "    print(words)\n",
    "        \n",
    "    if words[0].lower() == \"eliza\":\n",
    "        if words[1] in [\"stop\", \"end\", \"off\"]:\n",
    "            if elizaworking:\n",
    "                elizaworking = False\n",
    "                say(\"Eliza is gone\")\n",
    "            else:\n",
    "                say(\"Eliza is not here\")\n",
    "        elif words[1] in [\"start\", \"begin\", \"on\"]:\n",
    "            if elizaworking:\n",
    "                say(\"Eliza is already here\")\n",
    "            elif elizaclient:\n",
    "                elizaworking = True\n",
    "                say(\"Eliza has arrived\")\n",
    "            else:\n",
    "                say(\"Eliza cannot come\")\n",
    "        return True\n",
    "    if elizaworking:\n",
    "        elizaclient.publish(elizain, \" \".join(words))\n",
    "        return True\n",
    "        \n",
    "    if makestate:\n",
    "        if makestate == \"readytocommence\":\n",
    "            if dtime < 10 and words[0] == \"coffee\" and words[1] == \"make\":\n",
    "                makestate = \"commenced\"\n",
    "            else:\n",
    "                makestate = \"\"\n",
    "        coffeemakingchecklist(words, say)\n",
    "        return True\n",
    "        \n",
    "    if words[0] == \"coffee\":\n",
    "        if words[0] == \"\":\n",
    "            say(\"say: coffee commands to get the command list\")\n",
    "            return True\n",
    "        if words[1] == \"commands\":\n",
    "            say(\"Available commands are: quantity, age, temperature, make\")\n",
    "            return True\n",
    "        if words[1] == \"quantity\":\n",
    "            say(\"There is half a pot left\")\n",
    "            return True\n",
    "        if words[1] == \"age\":\n",
    "            say(\"The coffee is 6 hours old\")\n",
    "            return True\n",
    "        if words[1] == \"temperature\":\n",
    "            say(\"The coffee is 36 degrees\")\n",
    "            return True\n",
    "        if words[1] == \"make\":\n",
    "            tprevaction = tnow\n",
    "            if words[2] == \"checklist\":\n",
    "                makestate = \"commenced\"\n",
    "                coffeemakingchecklist(words, say)\n",
    "                return True\n",
    "            say(\"Say coffee make again to commence the coffee making checklist\")\n",
    "            makestate = \"readytocommence\"\n",
    "            return True\n",
    "                \n",
    "            \n",
    "    if wc == 1:\n",
    "        say(\"one word\")\n",
    "    elif wc == 2:\n",
    "        say(\"two words\")\n",
    "    elif wc == 3:\n",
    "        say(\"three words\")\n",
    "    elif wc == 3:\n",
    "        say(\"four words\")\n",
    "    return False\n"
   ]
  },
  {
   "cell_type": "code",
   "execution_count": 67,
   "metadata": {},
   "outputs": [
    {
     "name": "stdout",
     "output_type": "stream",
     "text": [
      "['coffee', 'commands', '', '', '', '', '', '', '', '']\n",
      "on_publish <paho.mqtt.client.Client object at 0x7f35e98101d0> None 6\n"
     ]
    },
    {
     "data": {
      "text/plain": [
       "True"
      ]
     },
     "execution_count": 67,
     "metadata": {},
     "output_type": "execute_result"
    }
   ],
   "source": [
    "process(\"coffee commands\")\n"
   ]
  },
  {
   "cell_type": "code",
   "execution_count": 27,
   "metadata": {},
   "outputs": [
    {
     "data": {
      "text/plain": [
       "0"
      ]
     },
     "execution_count": 27,
     "metadata": {},
     "output_type": "execute_result"
    }
   ],
   "source": [
    "mqttclient.loop(0.2)"
   ]
  },
  {
   "cell_type": "code",
   "execution_count": null,
   "metadata": {},
   "outputs": [
    {
     "name": "stdout",
     "output_type": "stream",
     "text": [
      "on_message <paho.mqtt.client.Client object at 0x7f35e98101d0> <paho.mqtt.client.MQTTMessage object at 0x7f35e97ec828> vocopi/spoken b'satellites are there'\n",
      "['satellites', 'are', 'there', '', '', '', '', '', '', '']\n",
      "on_publish <paho.mqtt.client.Client object at 0x7f35e9810518> None 2\n",
      "on_connect <paho.mqtt.client.Client object at 0x7f35e9810518> None {'session present': 0} 0\n",
      "on_message <paho.mqtt.client.Client object at 0x7f35e9810518> <paho.mqtt.client.MQTTMessage object at 0x7f35e97ec828> eliza/jcomputer/out b'Are they always there ?'\n",
      "on_publish <paho.mqtt.client.Client object at 0x7f35e98101d0> None 9\n",
      "on_message <paho.mqtt.client.Client object at 0x7f35e98101d0> <paho.mqtt.client.MQTTMessage object at 0x7f35e97ec7b8> vocopi/spoken b\"that's the Eliza sound\"\n",
      "[\"that's\", 'the', 'Eliza', 'sound', '', '', '', '', '', '']\n",
      "on_publish <paho.mqtt.client.Client object at 0x7f35e9810518> None 3\n",
      "on_message <paho.mqtt.client.Client object at 0x7f35e9810518> <paho.mqtt.client.MQTTMessage object at 0x7f35e97ec7b8> eliza/jcomputer/out b'Tell me more about that.'\n",
      "on_publish <paho.mqtt.client.Client object at 0x7f35e98101d0> None 10\n",
      "on_message <paho.mqtt.client.Client object at 0x7f35e98101d0> <paho.mqtt.client.MQTTMessage object at 0x7f35e983df28> vocopi/spoken b'Elijah off'\n",
      "['Elijah', 'off', '', '', '', '', '', '', '', '']\n",
      "on_publish <paho.mqtt.client.Client object at 0x7f35e9810518> None 4\n",
      "on_message <paho.mqtt.client.Client object at 0x7f35e9810518> <paho.mqtt.client.MQTTMessage object at 0x7f35e983df28> eliza/jcomputer/out b'Does talking about this bother you ?'\n",
      "on_publish <paho.mqtt.client.Client object at 0x7f35e98101d0> None 11\n",
      "on_message <paho.mqtt.client.Client object at 0x7f35e98101d0> <paho.mqtt.client.MQTTMessage object at 0x7f35e983df28> vocopi/spoken b'Elijah off'\n",
      "['Elijah', 'off', '', '', '', '', '', '', '', '']\n",
      "on_publish <paho.mqtt.client.Client object at 0x7f35e9810518> None 5\n",
      "on_message <paho.mqtt.client.Client object at 0x7f35e9810518> <paho.mqtt.client.MQTTMessage object at 0x7f35e983df28> eliza/jcomputer/out b\"I'm not sure I understand you fully.\"\n",
      "on_publish <paho.mqtt.client.Client object at 0x7f35e98101d0> None 12\n",
      "on_message <paho.mqtt.client.Client object at 0x7f35e98101d0> <paho.mqtt.client.MQTTMessage object at 0x7f35e983df28> vocopi/spoken b'Eliza stop'\n",
      "['Eliza', 'stop', '', '', '', '', '', '', '', '']\n",
      "on_publish <paho.mqtt.client.Client object at 0x7f35e98101d0> None 13\n",
      "on_message <paho.mqtt.client.Client object at 0x7f35e98101d0> <paho.mqtt.client.MQTTMessage object at 0x7f35e983df28> vocopi/spoken b'coffee commands'\n",
      "['coffee', 'commands', '', '', '', '', '', '', '', '']\n",
      "on_publish <paho.mqtt.client.Client object at 0x7f35e98101d0> None 14\n",
      "on_message <paho.mqtt.client.Client object at 0x7f35e98101d0> <paho.mqtt.client.MQTTMessage object at 0x7f35e983d9e8> vocopi/spoken b'coffee temperature'\n",
      "['coffee', 'temperature', '', '', '', '', '', '', '', '']\n",
      "on_publish <paho.mqtt.client.Client object at 0x7f35e98101d0> None 15\n",
      "on_message <paho.mqtt.client.Client object at 0x7f35e98101d0> <paho.mqtt.client.MQTTMessage object at 0x7f35e983d9e8> vocopi/spoken b'Alexa on'\n",
      "['Alexa', 'on', '', '', '', '', '', '', '', '']\n",
      "on_publish <paho.mqtt.client.Client object at 0x7f35e98101d0> None 16\n",
      "on_message <paho.mqtt.client.Client object at 0x7f35e98101d0> <paho.mqtt.client.MQTTMessage object at 0x7f35e983d9e8> vocopi/spoken b'coffee checklist'\n",
      "['coffee', 'checklist', '', '', '', '', '', '', '', '']\n",
      "on_publish <paho.mqtt.client.Client object at 0x7f35e98101d0> None 17\n",
      "on_message <paho.mqtt.client.Client object at 0x7f35e98101d0> <paho.mqtt.client.MQTTMessage object at 0x7f35e983d9e8> vocopi/spoken b'coffee make checklist'\n",
      "['coffee', 'make', 'checklist', '', '', '', '', '', '', '']\n",
      "cmc ['coffee', 'make', 'checklist', '', '', '', '', '', '', ''] commenced\n",
      "on_publish <paho.mqtt.client.Client object at 0x7f35e98101d0> None 18\n",
      "on_publish <paho.mqtt.client.Client object at 0x7f35e98101d0> None 19\n",
      "on_message <paho.mqtt.client.Client object at 0x7f35e98101d0> <paho.mqtt.client.MQTTMessage object at 0x7f35e983df28> vocopi/spoken b'check'\n",
      "['check', '', '', '', '', '', '', '', '', '']\n",
      "cmc ['check', '', '', '', '', '', '', '', '', ''] 1\n",
      "on_publish <paho.mqtt.client.Client object at 0x7f35e98101d0> None 20\n",
      "on_message <paho.mqtt.client.Client object at 0x7f35e98101d0> <paho.mqtt.client.MQTTMessage object at 0x7f35e983df28> vocopi/spoken b'coffee commands'\n",
      "['coffee', 'commands', '', '', '', '', '', '', '', '']\n",
      "cmc ['coffee', 'commands', '', '', '', '', '', '', '', ''] 2\n",
      "on_publish <paho.mqtt.client.Client object at 0x7f35e98101d0> None 21\n",
      "on_message <paho.mqtt.client.Client object at 0x7f35e98101d0> <paho.mqtt.client.MQTTMessage object at 0x7f35e983d9e8> vocopi/spoken b'coffee and checklist'\n",
      "['coffee', 'and', 'checklist', '', '', '', '', '', '', '']\n",
      "cmc ['coffee', 'and', 'checklist', '', '', '', '', '', '', ''] 2\n",
      "on_publish <paho.mqtt.client.Client object at 0x7f35e98101d0> None 22\n",
      "on_message <paho.mqtt.client.Client object at 0x7f35e98101d0> <paho.mqtt.client.MQTTMessage object at 0x7f35e983d7b8> vocopi/spoken b'check'\n",
      "['check', '', '', '', '', '', '', '', '', '']\n",
      "cmc ['check', '', '', '', '', '', '', '', '', ''] 2\n",
      "on_publish <paho.mqtt.client.Client object at 0x7f35e98101d0> None 23\n",
      "on_message <paho.mqtt.client.Client object at 0x7f35e98101d0> <paho.mqtt.client.MQTTMessage object at 0x7f35e983d7b8> vocopi/spoken b'check'\n",
      "['check', '', '', '', '', '', '', '', '', '']\n",
      "cmc ['check', '', '', '', '', '', '', '', '', ''] 3\n",
      "on_publish <paho.mqtt.client.Client object at 0x7f35e98101d0> None 24\n",
      "on_message <paho.mqtt.client.Client object at 0x7f35e98101d0> <paho.mqtt.client.MQTTMessage object at 0x7f35e983d7b8> vocopi/spoken b'check'\n",
      "['check', '', '', '', '', '', '', '', '', '']\n",
      "cmc ['check', '', '', '', '', '', '', '', '', ''] 4\n",
      "on_publish <paho.mqtt.client.Client object at 0x7f35e98101d0> None 25\n",
      "on_message <paho.mqtt.client.Client object at 0x7f35e98101d0> <paho.mqtt.client.MQTTMessage object at 0x7f35e983d7b8> vocopi/spoken b'Eliza on'\n",
      "['Eliza', 'on', '', '', '', '', '', '', '', '']\n",
      "on_publish <paho.mqtt.client.Client object at 0x7f35e98101d0> None 26\n",
      "on_message <paho.mqtt.client.Client object at 0x7f35e98101d0> <paho.mqtt.client.MQTTMessage object at 0x7f35e983d7b8> vocopi/spoken b'good morning'\n",
      "['good', 'morning', '', '', '', '', '', '', '', '']\n",
      "on_publish <paho.mqtt.client.Client object at 0x7f35e9810518> None 6\n",
      "on_message <paho.mqtt.client.Client object at 0x7f35e9810518> <paho.mqtt.client.MQTTMessage object at 0x7f35e983d7b8> eliza/jcomputer/out b'Does talking about this bother you ?'\n",
      "on_publish <paho.mqtt.client.Client object at 0x7f35e98101d0> None 27\n",
      "on_message <paho.mqtt.client.Client object at 0x7f35e98101d0> <paho.mqtt.client.MQTTMessage object at 0x7f35e983d7b8> vocopi/spoken b\"now it doesn't\"\n",
      "['now', 'it', \"doesn't\", '', '', '', '', '', '', '']\n",
      "on_publish <paho.mqtt.client.Client object at 0x7f35e9810518> None 7\n",
      "on_message <paho.mqtt.client.Client object at 0x7f35e9810518> <paho.mqtt.client.MQTTMessage object at 0x7f35e983df28> eliza/jcomputer/out b\"I'm not sure I understand you fully.\"\n",
      "on_publish <paho.mqtt.client.Client object at 0x7f35e98101d0> None 28\n",
      "on_message <paho.mqtt.client.Client object at 0x7f35e98101d0> <paho.mqtt.client.MQTTMessage object at 0x7f35e983df28> vocopi/spoken b'how do we make coffee'\n",
      "['how', 'do', 'we', 'make', 'coffee', '', '', '', '', '']\n",
      "on_publish <paho.mqtt.client.Client object at 0x7f35e9810518> None 8\n",
      "on_message <paho.mqtt.client.Client object at 0x7f35e9810518> <paho.mqtt.client.MQTTMessage object at 0x7f35e983d7b8> eliza/jcomputer/out b'Please go on.'\n",
      "on_publish <paho.mqtt.client.Client object at 0x7f35e98101d0> None 29\n",
      "on_message <paho.mqtt.client.Client object at 0x7f35e98101d0> <paho.mqtt.client.MQTTMessage object at 0x7f35e983d7b8> vocopi/spoken b'Eliza off'\n",
      "['Eliza', 'off', '', '', '', '', '', '', '', '']\n",
      "on_publish <paho.mqtt.client.Client object at 0x7f35e98101d0> None 30\n",
      "on_message <paho.mqtt.client.Client object at 0x7f35e98101d0> <paho.mqtt.client.MQTTMessage object at 0x7f35e983d7b8> vocopi/spoken b'control tower'\n",
      "['control', 'tower', '', '', '', '', '', '', '', '']\n",
      "on_publish <paho.mqtt.client.Client object at 0x7f35e98101d0> None 31\n"
     ]
    },
    {
     "name": "stdout",
     "output_type": "stream",
     "text": [
      "on_message <paho.mqtt.client.Client object at 0x7f35e98101d0> <paho.mqtt.client.MQTTMessage object at 0x7f35e983df28> vocopi/spoken b'how do we make coffee'\n",
      "['how', 'do', 'we', 'make', 'coffee', '', '', '', '', '']\n",
      "on_message <paho.mqtt.client.Client object at 0x7f35e98101d0> <paho.mqtt.client.MQTTMessage object at 0x7f35e983d7b8> vocopi/spoken b'coffee make checklist'\n",
      "['coffee', 'make', 'checklist', '', '', '', '', '', '', '']\n",
      "cmc ['coffee', 'make', 'checklist', '', '', '', '', '', '', ''] commenced\n",
      "on_publish <paho.mqtt.client.Client object at 0x7f35e98101d0> None 32\n",
      "on_publish <paho.mqtt.client.Client object at 0x7f35e98101d0> None 33\n",
      "on_message <paho.mqtt.client.Client object at 0x7f35e98101d0> <paho.mqtt.client.MQTTMessage object at 0x7f35e983df28> vocopi/spoken b'check'\n",
      "['check', '', '', '', '', '', '', '', '', '']\n",
      "cmc ['check', '', '', '', '', '', '', '', '', ''] 1\n",
      "on_publish <paho.mqtt.client.Client object at 0x7f35e98101d0> None 34\n",
      "on_message <paho.mqtt.client.Client object at 0x7f35e98101d0> <paho.mqtt.client.MQTTMessage object at 0x7f35e983df28> vocopi/spoken b'check check'\n",
      "['check', 'check', '', '', '', '', '', '', '', '']\n",
      "cmc ['check', 'check', '', '', '', '', '', '', '', ''] 2\n",
      "on_publish <paho.mqtt.client.Client object at 0x7f35e98101d0> None 35\n",
      "on_message <paho.mqtt.client.Client object at 0x7f35e98101d0> <paho.mqtt.client.MQTTMessage object at 0x7f35e983d7b8> vocopi/spoken b'check check'\n",
      "['check', 'check', '', '', '', '', '', '', '', '']\n",
      "cmc ['check', 'check', '', '', '', '', '', '', '', ''] 3\n",
      "on_publish <paho.mqtt.client.Client object at 0x7f35e98101d0> None 36\n",
      "on_message <paho.mqtt.client.Client object at 0x7f35e98101d0> <paho.mqtt.client.MQTTMessage object at 0x7f35e983d9e8> vocopi/spoken b'check check'\n",
      "['check', 'check', '', '', '', '', '', '', '', '']\n",
      "cmc ['check', 'check', '', '', '', '', '', '', '', ''] 4\n",
      "on_publish <paho.mqtt.client.Client object at 0x7f35e98101d0> None 37\n",
      "on_message <paho.mqtt.client.Client object at 0x7f35e98101d0> <paho.mqtt.client.MQTTMessage object at 0x7f35e983df28> vocopi/spoken b'coffee commands'\n",
      "['coffee', 'commands', '', '', '', '', '', '', '', '']\n",
      "on_publish <paho.mqtt.client.Client object at 0x7f35e98101d0> None 38\n",
      "on_message <paho.mqtt.client.Client object at 0x7f35e98101d0> <paho.mqtt.client.MQTTMessage object at 0x7f35e983d7b8> vocopi/spoken b'coffee age'\n",
      "['coffee', 'age', '', '', '', '', '', '', '', '']\n",
      "on_publish <paho.mqtt.client.Client object at 0x7f35e98101d0> None 39\n",
      "on_message <paho.mqtt.client.Client object at 0x7f35e98101d0> <paho.mqtt.client.MQTTMessage object at 0x7f35e983d7b8> vocopi/spoken b'192'\n",
      "['192', '', '', '', '', '', '', '', '', '']\n",
      "on_publish <paho.mqtt.client.Client object at 0x7f35e98101d0> None 40\n",
      "on_message <paho.mqtt.client.Client object at 0x7f35e98101d0> <paho.mqtt.client.MQTTMessage object at 0x7f35e983d7b8> vocopi/spoken b'10056'\n",
      "['10056', '', '', '', '', '', '', '', '', '']\n",
      "on_publish <paho.mqtt.client.Client object at 0x7f35e98101d0> None 41\n",
      "on_message <paho.mqtt.client.Client object at 0x7f35e98101d0> <paho.mqtt.client.MQTTMessage object at 0x7f35e983d7b8> vocopi/spoken b'1999000 + 6'\n",
      "['1999000', '+', '6', '', '', '', '', '', '', '']\n",
      "on_publish <paho.mqtt.client.Client object at 0x7f35e98101d0> None 42\n",
      "on_message <paho.mqtt.client.Client object at 0x7f35e98101d0> <paho.mqtt.client.MQTTMessage object at 0x7f35e983d7b8> vocopi/spoken b'1999647'\n",
      "['1999647', '', '', '', '', '', '', '', '', '']\n",
      "on_publish <paho.mqtt.client.Client object at 0x7f35e98101d0> None 43\n",
      "on_message <paho.mqtt.client.Client object at 0x7f35e98101d0> <paho.mqtt.client.MQTTMessage object at 0x7f35e983d7b8> vocopi/spoken b'73.7'\n",
      "['73.7', '', '', '', '', '', '', '', '', '']\n",
      "on_publish <paho.mqtt.client.Client object at 0x7f35e98101d0> None 44\n",
      "on_message <paho.mqtt.client.Client object at 0x7f35e98101d0> <paho.mqtt.client.MQTTMessage object at 0x7f35e983d7b8> vocopi/spoken b'-36'\n",
      "['-36', '', '', '', '', '', '', '', '', '']\n",
      "on_publish <paho.mqtt.client.Client object at 0x7f35e98101d0> None 45\n",
      "on_message <paho.mqtt.client.Client object at 0x7f35e98101d0> <paho.mqtt.client.MQTTMessage object at 0x7f35e983d7b8> vocopi/spoken b'Summer League'\n",
      "['Summer', 'League', '', '', '', '', '', '', '', '']\n",
      "on_publish <paho.mqtt.client.Client object at 0x7f35e98101d0> None 46\n",
      "on_message <paho.mqtt.client.Client object at 0x7f35e98101d0> <paho.mqtt.client.MQTTMessage object at 0x7f35e983df28> vocopi/spoken b\"Applebee's\"\n",
      "[\"Applebee's\", '', '', '', '', '', '', '', '', '']\n",
      "on_publish <paho.mqtt.client.Client object at 0x7f35e98101d0> None 47\n"
     ]
    }
   ],
   "source": [
    "while True:\n",
    "    mqttclient.loop(0.2)\n",
    "    if elizaclient:\n",
    "        elizaclient.loop(0.1)"
   ]
  },
  {
   "cell_type": "code",
   "execution_count": null,
   "metadata": {
    "collapsed": true
   },
   "outputs": [],
   "source": []
  }
 ],
 "metadata": {
  "kernelspec": {
   "display_name": "Python 3",
   "language": "python",
   "name": "python3"
  },
  "language_info": {
   "codemirror_mode": {
    "name": "ipython",
    "version": 3
   },
   "file_extension": ".py",
   "mimetype": "text/x-python",
   "name": "python",
   "nbconvert_exporter": "python",
   "pygments_lexer": "ipython3",
   "version": "3.6.1"
  }
 },
 "nbformat": 4,
 "nbformat_minor": 2
}
